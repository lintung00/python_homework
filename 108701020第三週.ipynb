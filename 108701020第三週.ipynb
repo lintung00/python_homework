{
 "cells": [
  {
   "cell_type": "code",
   "execution_count": 1,
   "metadata": {},
   "outputs": [],
   "source": [
    "%matplotlib inline\n",
    "import numpy as np\n",
    "import matplotlib.pyplot as plt\n",
    "import pandas as pd\n",
    "import seaborn as sns"
   ]
  },
  {
   "cell_type": "code",
   "execution_count": 3,
   "metadata": {},
   "outputs": [
    {
     "data": {
      "text/plain": [
       "(array([[20, 83, 32, 55, 12],\n",
       "        [52, 34, 88, 15, 68],\n",
       "        [65, 31, 34, 54, 15],\n",
       "        [79, 79, 89, 23, 53],\n",
       "        [56, 32, 27, 14, 76],\n",
       "        [21, 78, 34, 65, 70],\n",
       "        [ 0, 80, 22, 55, 27],\n",
       "        [42, 92, 74, 53, 21],\n",
       "        [58, 18, 90, 88, 80],\n",
       "        [93, 97, 39, 56, 11]]), array([[ 6, 37, 64, 23, 77],\n",
       "        [98, 88, 53, 17, 22],\n",
       "        [26, 73, 97, 13, 50],\n",
       "        [39, 44, 48, 31, 15],\n",
       "        [ 9,  1, 65,  7, 51],\n",
       "        [11,  4, 96, 26, 51],\n",
       "        [97, 29, 64, 10, 29],\n",
       "        [87, 13, 93, 64, 95],\n",
       "        [69,  2, 47, 25, 16],\n",
       "        [14, 53, 63, 80, 92]]), array([[ 7, 95, 78, 92, 98],\n",
       "        [72, 24, 81, 24, 49],\n",
       "        [87, 35, 22,  0, 72],\n",
       "        [78, 15, 34, 72, 83],\n",
       "        [55, 39, 92, 63, 53],\n",
       "        [ 8, 67, 16, 33, 74],\n",
       "        [10, 87,  7, 53, 38],\n",
       "        [44, 39, 28, 73, 54],\n",
       "        [95, 30, 72, 49, 95],\n",
       "        [53, 12,  1,  0, 28]]))"
      ]
     },
     "execution_count": 3,
     "metadata": {},
     "output_type": "execute_result"
    }
   ],
   "source": [
    "A_Class = np.random.randint(0,100,50)\n",
    "A_Class = A_Class.reshape(10,5)\n",
    "B_Class = np.random.randint(0,100,50)\n",
    "B_Class = B_Class.reshape(10,5)\n",
    "C_Class = np.random.randint(0,100,50)\n",
    "C_Class = C_Class.reshape(10,5)\n",
    "weight = [0.25,0.25,0.25,0.15,0.1]\n",
    "A_Class, B_Class ,C_Class"
   ]
  },
  {
   "cell_type": "code",
   "execution_count": 4,
   "metadata": {},
   "outputs": [],
   "source": [
    "A_Class = A_Class * weight\n",
    "B_Class = B_Class * weight\n",
    "C_Class = C_Class * weight"
   ]
  },
  {
   "cell_type": "code",
   "execution_count": 5,
   "metadata": {},
   "outputs": [
    {
     "data": {
      "text/plain": [
       "[52.475, 46.67, 47.9]"
      ]
     },
     "execution_count": 5,
     "metadata": {},
     "output_type": "execute_result"
    }
   ],
   "source": [
    "Average_score =[ A_Class[:,:].sum()/10, B_Class[:,:].sum()/10, C_Class[:,:].sum()/10 ]\n",
    "Average_score"
   ]
  },
  {
   "cell_type": "code",
   "execution_count": null,
   "metadata": {},
   "outputs": [],
   "source": []
  }
 ],
 "metadata": {
  "kernelspec": {
   "display_name": "Python 3",
   "language": "python",
   "name": "python3"
  },
  "language_info": {
   "codemirror_mode": {
    "name": "ipython",
    "version": 3
   },
   "file_extension": ".py",
   "mimetype": "text/x-python",
   "name": "python",
   "nbconvert_exporter": "python",
   "pygments_lexer": "ipython3",
   "version": "3.7.3"
  }
 },
 "nbformat": 4,
 "nbformat_minor": 2
}
