{
 "cells": [
  {
   "cell_type": "code",
   "execution_count": 32,
   "metadata": {},
   "outputs": [
    {
     "name": "stdout",
     "output_type": "stream",
     "text": [
      "請輸入5組數字:\n",
      "2\n",
      "3\n",
      "4\n",
      "5\n",
      "6\n",
      "這組資料的算術平均數為 4.0\n",
      "這組資料的幾何平均數為 3.7279192731913517\n"
     ]
    }
   ],
   "source": [
    "def arithmeticMean(*numbers):\n",
    "    sum = 0\n",
    "    n = 0\n",
    "    for i in numbers:\n",
    "        sum +=i\n",
    "        n +=1\n",
    "    return sum / n\n",
    "def geometricMean(*numbers):\n",
    "    product = 1\n",
    "    n = 0\n",
    "    for i in numbers:\n",
    "        product *= i\n",
    "        n +=1\n",
    "    return product **(1/n)\n",
    "\n",
    "print(\"請輸入5組數字:\")\n",
    "list = []\n",
    "\n",
    "for i in range(1,6):\n",
    "    number = eval(input())\n",
    "    list.append(number)\n",
    "\n",
    "print(\"這組資料的算術平均數為\",arithmeticMean(list[0],list[1],list[2],list[3],list[4]))\n",
    "print(\"這組資料的幾何平均數為\",geometricMean(list[0],list[1],list[2],list[3],list[4]))"
   ]
  },
  {
   "cell_type": "code",
   "execution_count": null,
   "metadata": {},
   "outputs": [],
   "source": []
  },
  {
   "cell_type": "code",
   "execution_count": null,
   "metadata": {},
   "outputs": [],
   "source": []
  }
 ],
 "metadata": {
  "kernelspec": {
   "display_name": "Python 3",
   "language": "python",
   "name": "python3"
  },
  "language_info": {
   "codemirror_mode": {
    "name": "ipython",
    "version": 3
   },
   "file_extension": ".py",
   "mimetype": "text/x-python",
   "name": "python",
   "nbconvert_exporter": "python",
   "pygments_lexer": "ipython3",
   "version": "3.7.3"
  }
 },
 "nbformat": 4,
 "nbformat_minor": 2
}
