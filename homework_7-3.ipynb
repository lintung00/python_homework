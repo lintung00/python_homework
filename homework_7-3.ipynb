{
 "cells": [
  {
   "cell_type": "code",
   "execution_count": 1,
   "metadata": {},
   "outputs": [
    {
     "name": "stdout",
     "output_type": "stream",
     "text": [
      "請輸入攝氏溫度:25\n",
      "攝氏 25 度可以轉換成華氏 77.0 度\n"
     ]
    }
   ],
   "source": [
    "def CtoF1(degreeC):\n",
    "    degreeF=degreeC*1.8+32\n",
    "    print(\"攝氏\",degreeC,\"度可以轉換成華氏\",degreeF,\"度\")\n",
    "temperatureC=eval(input(\"請輸入攝氏溫度:\"))\n",
    "CtoF1(temperatureC)"
   ]
  },
  {
   "cell_type": "code",
   "execution_count": null,
   "metadata": {},
   "outputs": [],
   "source": []
  }
 ],
 "metadata": {
  "kernelspec": {
   "display_name": "Python 3",
   "language": "python",
   "name": "python3"
  },
  "language_info": {
   "codemirror_mode": {
    "name": "ipython",
    "version": 3
   },
   "file_extension": ".py",
   "mimetype": "text/x-python",
   "name": "python",
   "nbconvert_exporter": "python",
   "pygments_lexer": "ipython3",
   "version": "3.7.3"
  }
 },
 "nbformat": 4,
 "nbformat_minor": 2
}
