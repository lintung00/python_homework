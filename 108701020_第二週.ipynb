{
 "cells": [
  {
   "cell_type": "code",
   "execution_count": 1,
   "metadata": {},
   "outputs": [
    {
     "name": "stdout",
     "output_type": "stream",
     "text": [
      "請輸入字串：test\n",
      "字串reverse為：tset\n"
     ]
    }
   ],
   "source": [
    "def reverse_a_string_more_slowly(a_string):\n",
    "    new_strings = []\n",
    "    index = len(a_string)\n",
    "    while index :\n",
    "        index -= 1                       \n",
    "        new_strings.append(a_string[index])\n",
    "    return ''.join(new_strings)\n",
    "\n",
    "testxx = input(\"請輸入字串：\")\n",
    "print(\"字串reverse為：\"+reverse_a_string_more_slowly(testxx))"
   ]
  },
  {
   "cell_type": "code",
   "execution_count": null,
   "metadata": {},
   "outputs": [],
   "source": []
  }
 ],
 "metadata": {
  "kernelspec": {
   "display_name": "Python 3",
   "language": "python",
   "name": "python3"
  },
  "language_info": {
   "codemirror_mode": {
    "name": "ipython",
    "version": 3
   },
   "file_extension": ".py",
   "mimetype": "text/x-python",
   "name": "python",
   "nbconvert_exporter": "python",
   "pygments_lexer": "ipython3",
   "version": "3.7.3"
  }
 },
 "nbformat": 4,
 "nbformat_minor": 2
}
