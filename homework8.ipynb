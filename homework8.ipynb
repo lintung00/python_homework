{
 "cells": [
  {
   "cell_type": "code",
   "execution_count": 11,
   "metadata": {},
   "outputs": [],
   "source": [
    "%matplotlib inline\n",
    "import numpy as np\n",
    "import matplotlib.pyplot as plt\n",
    "import pandas as pd"
   ]
  },
  {
   "cell_type": "code",
   "execution_count": 12,
   "metadata": {},
   "outputs": [],
   "source": [
    "data = pd.read_html('https://rate.bot.com.tw/xrt?Lang=zh-TW')"
   ]
  },
  {
   "cell_type": "code",
   "execution_count": 13,
   "metadata": {},
   "outputs": [],
   "source": [
    "current_data = data[0]"
   ]
  },
  {
   "cell_type": "code",
   "execution_count": 14,
   "metadata": {},
   "outputs": [],
   "source": [
    "current_data =  current_data.iloc[0:5,0:5]"
   ]
  },
  {
   "cell_type": "code",
   "execution_count": 15,
   "metadata": {},
   "outputs": [
    {
     "data": {
      "text/html": [
       "<div>\n",
       "<style scoped>\n",
       "    .dataframe tbody tr th:only-of-type {\n",
       "        vertical-align: middle;\n",
       "    }\n",
       "\n",
       "    .dataframe tbody tr th {\n",
       "        vertical-align: top;\n",
       "    }\n",
       "\n",
       "    .dataframe thead tr th {\n",
       "        text-align: left;\n",
       "    }\n",
       "</style>\n",
       "<table border=\"1\" class=\"dataframe\">\n",
       "  <thead>\n",
       "    <tr>\n",
       "      <th></th>\n",
       "      <th colspan=\"2\" halign=\"left\">幣別</th>\n",
       "      <th colspan=\"2\" halign=\"left\">現金匯率</th>\n",
       "      <th>Unnamed: 4_level_0</th>\n",
       "    </tr>\n",
       "    <tr>\n",
       "      <th></th>\n",
       "      <th>幣別</th>\n",
       "      <th>Unnamed: 1_level_1</th>\n",
       "      <th>本行買入</th>\n",
       "      <th>本行賣出</th>\n",
       "      <th>本行買入</th>\n",
       "    </tr>\n",
       "  </thead>\n",
       "  <tbody>\n",
       "    <tr>\n",
       "      <th>0</th>\n",
       "      <td>美金 (USD)  美金 (USD)</td>\n",
       "      <td>29.995</td>\n",
       "      <td>30.665</td>\n",
       "      <td>30.345</td>\n",
       "      <td>30.445</td>\n",
       "    </tr>\n",
       "    <tr>\n",
       "      <th>1</th>\n",
       "      <td>港幣 (HKD)  港幣 (HKD)</td>\n",
       "      <td>3.728</td>\n",
       "      <td>3.932</td>\n",
       "      <td>3.854</td>\n",
       "      <td>3.914</td>\n",
       "    </tr>\n",
       "    <tr>\n",
       "      <th>2</th>\n",
       "      <td>英鎊 (GBP)  英鎊 (GBP)</td>\n",
       "      <td>37.77</td>\n",
       "      <td>39.89</td>\n",
       "      <td>38.77</td>\n",
       "      <td>39.19</td>\n",
       "    </tr>\n",
       "    <tr>\n",
       "      <th>3</th>\n",
       "      <td>澳幣 (AUD)  澳幣 (AUD)</td>\n",
       "      <td>20.53</td>\n",
       "      <td>21.31</td>\n",
       "      <td>20.8</td>\n",
       "      <td>21.03</td>\n",
       "    </tr>\n",
       "    <tr>\n",
       "      <th>4</th>\n",
       "      <td>加拿大幣 (CAD)  加拿大幣 (CAD)</td>\n",
       "      <td>22.55</td>\n",
       "      <td>23.46</td>\n",
       "      <td>22.94</td>\n",
       "      <td>23.16</td>\n",
       "    </tr>\n",
       "  </tbody>\n",
       "</table>\n",
       "</div>"
      ],
      "text/plain": [
       "                       幣別                       現金匯率          \\\n",
       "                       幣別 Unnamed: 1_level_1    本行買入    本行賣出   \n",
       "0      美金 (USD)  美金 (USD)             29.995  30.665  30.345   \n",
       "1      港幣 (HKD)  港幣 (HKD)              3.728   3.932   3.854   \n",
       "2      英鎊 (GBP)  英鎊 (GBP)              37.77   39.89   38.77   \n",
       "3      澳幣 (AUD)  澳幣 (AUD)              20.53   21.31    20.8   \n",
       "4  加拿大幣 (CAD)  加拿大幣 (CAD)              22.55   23.46   22.94   \n",
       "\n",
       "  Unnamed: 4_level_0  \n",
       "                本行買入  \n",
       "0             30.445  \n",
       "1              3.914  \n",
       "2              39.19  \n",
       "3              21.03  \n",
       "4              23.16  "
      ]
     },
     "execution_count": 15,
     "metadata": {},
     "output_type": "execute_result"
    }
   ],
   "source": [
    "current_data"
   ]
  },
  {
   "cell_type": "code",
   "execution_count": 16,
   "metadata": {},
   "outputs": [],
   "source": [
    "current_data.columns = [\"幣別\",\"現金匯率-本行買入\",\"現金匯率-本行賣出\",\"即期匯率-本行買入\",\"即期匯率-本行賣出\"]\n",
    "current_data['幣別'] = current_data['幣別'].str.extract('\\((\\w+)\\)')\n",
    "current_data['現金匯率-本行買入'] = current_data['現金匯率-本行買入'].astype('float64') \n",
    "current_data['現金匯率-本行賣出'] = current_data['現金匯率-本行賣出'].astype('float64') \n",
    "current_data['即期匯率-本行買入'] = current_data['即期匯率-本行買入'].astype('float64') \n",
    "current_data['即期匯率-本行賣出'] = current_data['即期匯率-本行賣出'].astype('float64')"
   ]
  },
  {
   "cell_type": "code",
   "execution_count": 17,
   "metadata": {},
   "outputs": [
    {
     "data": {
      "text/html": [
       "<div>\n",
       "<style scoped>\n",
       "    .dataframe tbody tr th:only-of-type {\n",
       "        vertical-align: middle;\n",
       "    }\n",
       "\n",
       "    .dataframe tbody tr th {\n",
       "        vertical-align: top;\n",
       "    }\n",
       "\n",
       "    .dataframe thead th {\n",
       "        text-align: right;\n",
       "    }\n",
       "</style>\n",
       "<table border=\"1\" class=\"dataframe\">\n",
       "  <thead>\n",
       "    <tr style=\"text-align: right;\">\n",
       "      <th></th>\n",
       "      <th>幣別</th>\n",
       "      <th>現金匯率-本行買入</th>\n",
       "      <th>現金匯率-本行賣出</th>\n",
       "      <th>即期匯率-本行買入</th>\n",
       "      <th>即期匯率-本行賣出</th>\n",
       "    </tr>\n",
       "  </thead>\n",
       "  <tbody>\n",
       "    <tr>\n",
       "      <th>0</th>\n",
       "      <td>USD</td>\n",
       "      <td>29.995</td>\n",
       "      <td>30.665</td>\n",
       "      <td>30.345</td>\n",
       "      <td>30.445</td>\n",
       "    </tr>\n",
       "    <tr>\n",
       "      <th>1</th>\n",
       "      <td>HKD</td>\n",
       "      <td>3.728</td>\n",
       "      <td>3.932</td>\n",
       "      <td>3.854</td>\n",
       "      <td>3.914</td>\n",
       "    </tr>\n",
       "    <tr>\n",
       "      <th>2</th>\n",
       "      <td>GBP</td>\n",
       "      <td>37.770</td>\n",
       "      <td>39.890</td>\n",
       "      <td>38.770</td>\n",
       "      <td>39.190</td>\n",
       "    </tr>\n",
       "    <tr>\n",
       "      <th>3</th>\n",
       "      <td>AUD</td>\n",
       "      <td>20.530</td>\n",
       "      <td>21.310</td>\n",
       "      <td>20.800</td>\n",
       "      <td>21.030</td>\n",
       "    </tr>\n",
       "    <tr>\n",
       "      <th>4</th>\n",
       "      <td>CAD</td>\n",
       "      <td>22.550</td>\n",
       "      <td>23.460</td>\n",
       "      <td>22.940</td>\n",
       "      <td>23.160</td>\n",
       "    </tr>\n",
       "  </tbody>\n",
       "</table>\n",
       "</div>"
      ],
      "text/plain": [
       "    幣別  現金匯率-本行買入  現金匯率-本行賣出  即期匯率-本行買入  即期匯率-本行賣出\n",
       "0  USD     29.995     30.665     30.345     30.445\n",
       "1  HKD      3.728      3.932      3.854      3.914\n",
       "2  GBP     37.770     39.890     38.770     39.190\n",
       "3  AUD     20.530     21.310     20.800     21.030\n",
       "4  CAD     22.550     23.460     22.940     23.160"
      ]
     },
     "execution_count": 17,
     "metadata": {},
     "output_type": "execute_result"
    }
   ],
   "source": [
    "current_data"
   ]
  },
  {
   "cell_type": "code",
   "execution_count": 18,
   "metadata": {},
   "outputs": [],
   "source": [
    "current_data['現金匯率-買賣匯差'] = current_data['現金匯率-本行賣出'] - current_data['現金匯率-本行買入']\n",
    "current_data['即期匯率-買賣匯差'] = current_data['即期匯率-本行賣出'] - current_data['即期匯率-本行買入']"
   ]
  },
  {
   "cell_type": "code",
   "execution_count": 19,
   "metadata": {},
   "outputs": [
    {
     "data": {
      "text/html": [
       "<div>\n",
       "<style scoped>\n",
       "    .dataframe tbody tr th:only-of-type {\n",
       "        vertical-align: middle;\n",
       "    }\n",
       "\n",
       "    .dataframe tbody tr th {\n",
       "        vertical-align: top;\n",
       "    }\n",
       "\n",
       "    .dataframe thead th {\n",
       "        text-align: right;\n",
       "    }\n",
       "</style>\n",
       "<table border=\"1\" class=\"dataframe\">\n",
       "  <thead>\n",
       "    <tr style=\"text-align: right;\">\n",
       "      <th></th>\n",
       "      <th>幣別</th>\n",
       "      <th>現金匯率-本行買入</th>\n",
       "      <th>現金匯率-本行賣出</th>\n",
       "      <th>即期匯率-本行買入</th>\n",
       "      <th>即期匯率-本行賣出</th>\n",
       "      <th>現金匯率-買賣匯差</th>\n",
       "      <th>即期匯率-買賣匯差</th>\n",
       "    </tr>\n",
       "  </thead>\n",
       "  <tbody>\n",
       "    <tr>\n",
       "      <th>0</th>\n",
       "      <td>USD</td>\n",
       "      <td>29.995</td>\n",
       "      <td>30.665</td>\n",
       "      <td>30.345</td>\n",
       "      <td>30.445</td>\n",
       "      <td>0.670</td>\n",
       "      <td>0.10</td>\n",
       "    </tr>\n",
       "    <tr>\n",
       "      <th>1</th>\n",
       "      <td>HKD</td>\n",
       "      <td>3.728</td>\n",
       "      <td>3.932</td>\n",
       "      <td>3.854</td>\n",
       "      <td>3.914</td>\n",
       "      <td>0.204</td>\n",
       "      <td>0.06</td>\n",
       "    </tr>\n",
       "    <tr>\n",
       "      <th>2</th>\n",
       "      <td>GBP</td>\n",
       "      <td>37.770</td>\n",
       "      <td>39.890</td>\n",
       "      <td>38.770</td>\n",
       "      <td>39.190</td>\n",
       "      <td>2.120</td>\n",
       "      <td>0.42</td>\n",
       "    </tr>\n",
       "    <tr>\n",
       "      <th>3</th>\n",
       "      <td>AUD</td>\n",
       "      <td>20.530</td>\n",
       "      <td>21.310</td>\n",
       "      <td>20.800</td>\n",
       "      <td>21.030</td>\n",
       "      <td>0.780</td>\n",
       "      <td>0.23</td>\n",
       "    </tr>\n",
       "    <tr>\n",
       "      <th>4</th>\n",
       "      <td>CAD</td>\n",
       "      <td>22.550</td>\n",
       "      <td>23.460</td>\n",
       "      <td>22.940</td>\n",
       "      <td>23.160</td>\n",
       "      <td>0.910</td>\n",
       "      <td>0.22</td>\n",
       "    </tr>\n",
       "  </tbody>\n",
       "</table>\n",
       "</div>"
      ],
      "text/plain": [
       "    幣別  現金匯率-本行買入  現金匯率-本行賣出  即期匯率-本行買入  即期匯率-本行賣出  現金匯率-買賣匯差  即期匯率-買賣匯差\n",
       "0  USD     29.995     30.665     30.345     30.445      0.670       0.10\n",
       "1  HKD      3.728      3.932      3.854      3.914      0.204       0.06\n",
       "2  GBP     37.770     39.890     38.770     39.190      2.120       0.42\n",
       "3  AUD     20.530     21.310     20.800     21.030      0.780       0.23\n",
       "4  CAD     22.550     23.460     22.940     23.160      0.910       0.22"
      ]
     },
     "execution_count": 19,
     "metadata": {},
     "output_type": "execute_result"
    }
   ],
   "source": [
    "current_data"
   ]
  },
  {
   "cell_type": "code",
   "execution_count": null,
   "metadata": {},
   "outputs": [],
   "source": []
  },
  {
   "cell_type": "code",
   "execution_count": null,
   "metadata": {},
   "outputs": [],
   "source": []
  }
 ],
 "metadata": {
  "kernelspec": {
   "display_name": "Python 3",
   "language": "python",
   "name": "python3"
  },
  "language_info": {
   "codemirror_mode": {
    "name": "ipython",
    "version": 3
   },
   "file_extension": ".py",
   "mimetype": "text/x-python",
   "name": "python",
   "nbconvert_exporter": "python",
   "pygments_lexer": "ipython3",
   "version": "3.7.3"
  }
 },
 "nbformat": 4,
 "nbformat_minor": 2
}
