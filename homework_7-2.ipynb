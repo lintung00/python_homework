{
 "cells": [
  {
   "cell_type": "code",
   "execution_count": 2,
   "metadata": {},
   "outputs": [
    {
     "name": "stdout",
     "output_type": "stream",
     "text": [
      "請輸入身高(公分):179\n",
      "請輸入體重(公斤):58\n",
      "身高179公分、體重58公斤的BMI為18.101807059704754\n",
      "過輕\n"
     ]
    }
   ],
   "source": [
    "height=eval(input(\"請輸入身高(公分):\"))\n",
    "weight=eval(input(\"請輸入體重(公斤):\"))\n",
    "BMI=weight/(height/100)**2\n",
    "print(\"身高{0}公分、體重{1}公斤的BMI為{2}\".format(height, weight, BMI))\n",
    "if BMI<18.5:\n",
    "    print(\"過輕\")\n",
    "elif BMI<=24 and BMI>=18.5:\n",
    "    print(\"正常\")\n",
    "elif BMI<=27 and BMI>24:\n",
    "    print(\"過重\")\n",
    "elif BMI<35 and BMI>27:\n",
    "    print(\"肥胖\")\n",
    "elif BMI>35:\n",
    "    print(\"極肥胖\")"
   ]
  },
  {
   "cell_type": "code",
   "execution_count": null,
   "metadata": {},
   "outputs": [],
   "source": []
  }
 ],
 "metadata": {
  "kernelspec": {
   "display_name": "Python 3",
   "language": "python",
   "name": "python3"
  },
  "language_info": {
   "codemirror_mode": {
    "name": "ipython",
    "version": 3
   },
   "file_extension": ".py",
   "mimetype": "text/x-python",
   "name": "python",
   "nbconvert_exporter": "python",
   "pygments_lexer": "ipython3",
   "version": "3.7.3"
  }
 },
 "nbformat": 4,
 "nbformat_minor": 2
}
