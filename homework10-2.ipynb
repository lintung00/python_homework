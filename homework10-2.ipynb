{
 "cells": [
  {
   "cell_type": "code",
   "execution_count": 1,
   "metadata": {},
   "outputs": [
    {
     "name": "stdout",
     "output_type": "stream",
     "text": [
      "三科均不及格的同學: {'大雄', '阿丁'}\n",
      "國文和英文及格，但數學不及格的同學: {'靜香', '包包', '小乖', '胖虎', '阿吉'}\n"
     ]
    }
   ],
   "source": [
    "S1={\"鐵雄\",\"大明\",\"珍珍\",\"阿丁\",\"小凱\",\"阿美\",\"阿文\",\"大雄\"}   ##國文不及格\n",
    "S2={\"大明\",\"珍珍\",\"阿丁\",\"大雄\"}   ##英文不及格\n",
    "S3={\"阿吉\",\"胖虎\",\"大雄\",\"阿丁\",\"小凱\",\"阿美\",\"靜香\",\"小乖\",\"包包\"}  ##數學不及格\n",
    "\n",
    "\n",
    "print(\"三科均不及格的同學:\",S1&S2&S3)\n",
    "print(\"國文和英文及格，但數學不及格的同學:\",(S3-S1)-S2)"
   ]
  },
  {
   "cell_type": "code",
   "execution_count": null,
   "metadata": {},
   "outputs": [],
   "source": []
  }
 ],
 "metadata": {
  "kernelspec": {
   "display_name": "Python 3",
   "language": "python",
   "name": "python3"
  },
  "language_info": {
   "codemirror_mode": {
    "name": "ipython",
    "version": 3
   },
   "file_extension": ".py",
   "mimetype": "text/x-python",
   "name": "python",
   "nbconvert_exporter": "python",
   "pygments_lexer": "ipython3",
   "version": "3.7.3"
  }
 },
 "nbformat": 4,
 "nbformat_minor": 2
}
