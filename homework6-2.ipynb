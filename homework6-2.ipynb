{
 "cells": [
  {
   "cell_type": "code",
   "execution_count": 4,
   "metadata": {},
   "outputs": [
    {
     "name": "stdout",
     "output_type": "stream",
     "text": [
      "請輸入數學分數(0~100):95\n",
      "優等\n"
     ]
    }
   ],
   "source": [
    "score = eval(input(\"請輸入數學分數(0~100):\"))\n",
    "if score >=90:\n",
    "    print(\"優等\")\n",
    "elif score <90 and score >=80:\n",
    "    print(\"甲等\")\n",
    "elif score <80 and score >=70:\n",
    "    print(\"乙等\")\n",
    "elif score <70 and score >=60:\n",
    "    print(\"丙等\")\n",
    "else:\n",
    "    print(\"不及格\")"
   ]
  }
 ],
 "metadata": {
  "kernelspec": {
   "display_name": "Python 3",
   "language": "python",
   "name": "python3"
  },
  "language_info": {
   "codemirror_mode": {
    "name": "ipython",
    "version": 3
   },
   "file_extension": ".py",
   "mimetype": "text/x-python",
   "name": "python",
   "nbconvert_exporter": "python",
   "pygments_lexer": "ipython3",
   "version": "3.7.3"
  }
 },
 "nbformat": 4,
 "nbformat_minor": 2
}
