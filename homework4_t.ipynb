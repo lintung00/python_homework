{
 "cells": [
  {
   "cell_type": "code",
   "execution_count": null,
   "metadata": {},
   "outputs": [],
   "source": [
    "#輸入五個數字找到最大值\n",
    "\n",
    "nums_str = input('請輸入五個數，數字之間加入空格：').split()\n",
    "nums = [] \n",
    "\n",
    "# 用while迴圈應付數字少於五個的情況。\n",
    "while True:\n",
    "    for n in nums_str:\n",
    "        if n.isdigit():   # 檢查是不是整數。\n",
    "            nums += [int(n)]\n",
    "\n",
    "        # 如果已經得到5個數字，就離開迴圈。\n",
    "        if len(nums) == 5:\n",
    "            break;\n",
    "\n",
    "    # 如果數字少於三個，提示使用者繼續輸入。\n",
    "    if len(nums) < 5:\n",
    "        nums_str = input('請繼續輸入：').split()\n",
    "    else:\n",
    "        break;\n",
    "\n",
    "max_value= 0    #初始化數值    \n",
    "for i in nums:\n",
    "    #找到五個數值中的最大值\n",
    "    if i > max_value :  \n",
    "       max_value = i;\n",
    "                 \n",
    "print(nums) #列出數列\n",
    "print(\"得到最大數字\")\n",
    "print(max_value) # 印出最大值"
   ]
  },
  {
   "cell_type": "code",
   "execution_count": null,
   "metadata": {},
   "outputs": [],
   "source": []
  }
 ],
 "metadata": {
  "kernelspec": {
   "display_name": "Python 3",
   "language": "python",
   "name": "python3"
  },
  "language_info": {
   "codemirror_mode": {
    "name": "ipython",
    "version": 3
   },
   "file_extension": ".py",
   "mimetype": "text/x-python",
   "name": "python",
   "nbconvert_exporter": "python",
   "pygments_lexer": "ipython3",
   "version": "3.7.3"
  }
 },
 "nbformat": 4,
 "nbformat_minor": 2
}
