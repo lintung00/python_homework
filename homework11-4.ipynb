{
 "cells": [
  {
   "cell_type": "code",
   "execution_count": 1,
   "metadata": {},
   "outputs": [
    {
     "name": "stdout",
     "output_type": "stream",
     "text": [
      "請輸入上底:10\n",
      "請輸入下底:20\n",
      "請輸入高:5\n",
      "梯形面積為 75.0\n"
     ]
    }
   ],
   "source": [
    "top=eval(input(\"請輸入上底:\"))\n",
    "bottom=eval(input(\"請輸入下底:\"))\n",
    "height=eval(input(\"請輸入高:\"))\n",
    "\n",
    "area=(top+bottom)*height/2\n",
    "print(\"梯形面積為\",area)"
   ]
  },
  {
   "cell_type": "code",
   "execution_count": null,
   "metadata": {},
   "outputs": [],
   "source": []
  }
 ],
 "metadata": {
  "kernelspec": {
   "display_name": "Python 3",
   "language": "python",
   "name": "python3"
  },
  "language_info": {
   "codemirror_mode": {
    "name": "ipython",
    "version": 3
   },
   "file_extension": ".py",
   "mimetype": "text/x-python",
   "name": "python",
   "nbconvert_exporter": "python",
   "pygments_lexer": "ipython3",
   "version": "3.7.3"
  }
 },
 "nbformat": 4,
 "nbformat_minor": 2
}
