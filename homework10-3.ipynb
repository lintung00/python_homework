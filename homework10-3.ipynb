{
 "cells": [
  {
   "cell_type": "code",
   "execution_count": 1,
   "metadata": {},
   "outputs": [
    {
     "name": "stdout",
     "output_type": "stream",
     "text": [
      "水果字典中的水果名稱: ('蘋果', '鳳梨', '水蜜桃', '香蕉', '西瓜', '葡萄', '橘子', '番茄', '奇異果')\n",
      "請輸入要查詢英文的水果名稱:蘋果\n",
      "apple\n"
     ]
    }
   ],
   "source": [
    "fruits={\"蘋果\":\"apple\",\"鳳梨\":\"pineapple\",\"水蜜桃\":\"peach\",\"香蕉\":\"banana\",\\\n",
    "        \"西瓜\":\"watermelon\",\"葡萄\":\"grape\",\"橘子\":\"orange\",\"番茄\":\"tomato\",\\\n",
    "        \"奇異果\":\"kiwifruit\"}\n",
    "print(\"水果字典中的水果名稱:\",tuple(fruits.keys()))\n",
    "Q=input(\"請輸入要查詢英文的水果名稱:\")\n",
    "print(fruits.get(Q,\"水果字典中沒有這種水果\"))"
   ]
  },
  {
   "cell_type": "code",
   "execution_count": null,
   "metadata": {},
   "outputs": [],
   "source": []
  }
 ],
 "metadata": {
  "kernelspec": {
   "display_name": "Python 3",
   "language": "python",
   "name": "python3"
  },
  "language_info": {
   "codemirror_mode": {
    "name": "ipython",
    "version": 3
   },
   "file_extension": ".py",
   "mimetype": "text/x-python",
   "name": "python",
   "nbconvert_exporter": "python",
   "pygments_lexer": "ipython3",
   "version": "3.7.3"
  }
 },
 "nbformat": 4,
 "nbformat_minor": 2
}
