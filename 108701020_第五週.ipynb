{
 "cells": [
  {
   "cell_type": "code",
   "execution_count": 1,
   "metadata": {},
   "outputs": [
    {
     "name": "stdout",
     "output_type": "stream",
     "text": [
      "請輸入一個年份2000\n",
      "閏年\n"
     ]
    }
   ],
   "source": [
    "def Judging_LeapYear(n):\n",
    "    if (  (n%400==0) or ( (n%4==0) and (n%100!=0) ) ):\n",
    "        print(\"閏年\")\n",
    "    else:\n",
    "        print(\"不是閏年\")\n",
    "        \n",
    "year = int(input(\"請輸入一個年份\"))\n",
    "Judging_LeapYear(year)"
   ]
  },
  {
   "cell_type": "code",
   "execution_count": null,
   "metadata": {},
   "outputs": [],
   "source": []
  }
 ],
 "metadata": {
  "kernelspec": {
   "display_name": "Python 3",
   "language": "python",
   "name": "python3"
  },
  "language_info": {
   "codemirror_mode": {
    "name": "ipython",
    "version": 3
   },
   "file_extension": ".py",
   "mimetype": "text/x-python",
   "name": "python",
   "nbconvert_exporter": "python",
   "pygments_lexer": "ipython3",
   "version": "3.7.3"
  }
 },
 "nbformat": 4,
 "nbformat_minor": 2
}
