{
 "cells": [
  {
   "cell_type": "code",
   "execution_count": 4,
   "metadata": {},
   "outputs": [
    {
     "name": "stdout",
     "output_type": "stream",
     "text": [
      "請輸入第1位評審的分數:88\n",
      "請輸入第2位評審的分數:85\n",
      "請輸入第3位評審的分數:90\n",
      "請輸入第4位評審的分數:88\n",
      "請輸入第5位評審的分數:84\n",
      "這位選手的總分為 435\n"
     ]
    }
   ],
   "source": [
    "list=[]\n",
    "\n",
    "for i in range(1,6):\n",
    "    prompt=\"請輸入第\"+str(i)+\"位評審的分數:\"\n",
    "    score=eval(input(prompt))\n",
    "    list.append(score)\n",
    "    \n",
    "print(\"這位選手的總分為\",sum(list))"
   ]
  },
  {
   "cell_type": "code",
   "execution_count": null,
   "metadata": {},
   "outputs": [],
   "source": []
  }
 ],
 "metadata": {
  "kernelspec": {
   "display_name": "Python 3",
   "language": "python",
   "name": "python3"
  },
  "language_info": {
   "codemirror_mode": {
    "name": "ipython",
    "version": 3
   },
   "file_extension": ".py",
   "mimetype": "text/x-python",
   "name": "python",
   "nbconvert_exporter": "python",
   "pygments_lexer": "ipython3",
   "version": "3.7.3"
  }
 },
 "nbformat": 4,
 "nbformat_minor": 2
}
