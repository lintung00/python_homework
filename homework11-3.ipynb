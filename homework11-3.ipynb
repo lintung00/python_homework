{
 "cells": [
  {
   "cell_type": "code",
   "execution_count": 4,
   "metadata": {},
   "outputs": [
    {
     "name": "stdout",
     "output_type": "stream",
     "text": [
      "半徑為 1 的圓面積為 3.14\n",
      "半徑為 10 的圓面積為 314.0\n"
     ]
    }
   ],
   "source": [
    "class Circle:\n",
    "     PI=3.14\n",
    "     radius=1\n",
    "        \n",
    "     def getArea(self):\n",
    "        return self.PI*self.radius*self.radius\n",
    "    \n",
    "C1=Circle()\n",
    "print(\"半徑為\",C1.radius,\"的圓面積為\",C1.getArea())\n",
    "\n",
    "C2=C1\n",
    "C2.radius=10\n",
    "print(\"半徑為\",C1.radius,\"的圓面積為\",C1.getArea())"
   ]
  },
  {
   "cell_type": "code",
   "execution_count": null,
   "metadata": {},
   "outputs": [],
   "source": []
  }
 ],
 "metadata": {
  "kernelspec": {
   "display_name": "Python 3",
   "language": "python",
   "name": "python3"
  },
  "language_info": {
   "codemirror_mode": {
    "name": "ipython",
    "version": 3
   },
   "file_extension": ".py",
   "mimetype": "text/x-python",
   "name": "python",
   "nbconvert_exporter": "python",
   "pygments_lexer": "ipython3",
   "version": "3.7.3"
  }
 },
 "nbformat": 4,
 "nbformat_minor": 2
}
