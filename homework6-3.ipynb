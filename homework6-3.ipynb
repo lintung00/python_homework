{
 "cells": [
  {
   "cell_type": "code",
   "execution_count": 1,
   "metadata": {},
   "outputs": [
    {
     "name": "stdout",
     "output_type": "stream",
     "text": [
      "請輸入「快樂」的英文:sad\n",
      "答錯了，請重新輸入「快樂」的英文:hello\n",
      "答錯了，請重新輸入「快樂」的英文:happy\n",
      "答對了!\n"
     ]
    }
   ],
   "source": [
    "answer = input(\"請輸入「快樂」的英文:\")\n",
    "while answer.upper()!=\"HAPPY\":\n",
    "    answer = input(\"答錯了，請重新輸入「快樂」的英文:\")\n",
    "else:\n",
    "    print(\"答對了!\")"
   ]
  }
 ],
 "metadata": {
  "kernelspec": {
   "display_name": "Python 3",
   "language": "python",
   "name": "python3"
  },
  "language_info": {
   "codemirror_mode": {
    "name": "ipython",
    "version": 3
   },
   "file_extension": ".py",
   "mimetype": "text/x-python",
   "name": "python",
   "nbconvert_exporter": "python",
   "pygments_lexer": "ipython3",
   "version": "3.7.3"
  }
 },
 "nbformat": 4,
 "nbformat_minor": 2
}
