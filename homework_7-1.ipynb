{
 "cells": [
  {
   "cell_type": "code",
   "execution_count": 1,
   "metadata": {},
   "outputs": [
    {
     "name": "stdout",
     "output_type": "stream",
     "text": [
      "請猜數字1-100:45\n",
      "太大了!\n",
      "請猜數字1-100:32\n",
      "太大了!\n",
      "請猜數字1-100:22\n",
      "太大了!\n",
      "請猜數字1-100:10\n",
      "太大了!\n",
      "請猜數字1-100:5\n",
      "太小了!\n",
      "請猜數字1-100:7\n",
      "太大了!\n",
      "請猜數字1-100:6\n",
      "猜對了!\n"
     ]
    }
   ],
   "source": [
    "import random\n",
    "num=random.randint(1,100)\n",
    "answer=-1\n",
    "while answer!=num:\n",
    "    answer=eval(input(\"請猜數字1-100:\"))\n",
    "    if answer>num:\n",
    "        print(\"太大了!\")\n",
    "    elif answer<num:\n",
    "        print(\"太小了!\")\n",
    "    else:\n",
    "        print(\"猜對了!\")"
   ]
  },
  {
   "cell_type": "code",
   "execution_count": null,
   "metadata": {},
   "outputs": [],
   "source": []
  }
 ],
 "metadata": {
  "kernelspec": {
   "display_name": "Python 3",
   "language": "python",
   "name": "python3"
  },
  "language_info": {
   "codemirror_mode": {
    "name": "ipython",
    "version": 3
   },
   "file_extension": ".py",
   "mimetype": "text/x-python",
   "name": "python",
   "nbconvert_exporter": "python",
   "pygments_lexer": "ipython3",
   "version": "3.7.3"
  }
 },
 "nbformat": 4,
 "nbformat_minor": 2
}
