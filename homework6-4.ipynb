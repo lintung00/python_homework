{
 "cells": [
  {
   "cell_type": "code",
   "execution_count": 7,
   "metadata": {},
   "outputs": [
    {
     "name": "stdout",
     "output_type": "stream",
     "text": [
      "請輸入1~100的正整數:9\n",
      "9階乘為362880\n"
     ]
    }
   ],
   "source": [
    "num = eval(input(\"請輸入1~100的正整數:\"))\n",
    "result = 1\n",
    "i = 1\n",
    "while i <= num:\n",
    "    result = result*i\n",
    "    i=i+1\n",
    "print(\"{0}階乘為{1}\".format(num,result))"
   ]
  }
 ],
 "metadata": {
  "kernelspec": {
   "display_name": "Python 3",
   "language": "python",
   "name": "python3"
  },
  "language_info": {
   "codemirror_mode": {
    "name": "ipython",
    "version": 3
   },
   "file_extension": ".py",
   "mimetype": "text/x-python",
   "name": "python",
   "nbconvert_exporter": "python",
   "pygments_lexer": "ipython3",
   "version": "3.7.3"
  }
 },
 "nbformat": 4,
 "nbformat_minor": 2
}
