{
 "cells": [
  {
   "cell_type": "code",
   "execution_count": null,
   "metadata": {},
   "outputs": [],
   "source": [
    "import matplotlib.pyplot as plt\n",
    "\n",
    "x = [1,2,3,4,5,6,7,8,9,10,11,12]\n",
    "y = [19.1,19.6,22.1,25.7,29.2,30.0,34.3,33.8,31.1,27.5,24.2,20.7]\n",
    "\n",
    "x2 = [1,2,3,4,5,6,7,8,9,10,11,12]\n",
    "y2 = [13.9,14.2,15.8,19.0,22.3,24.6,26.3,26.1,24.8,22.3,19.3,15.6]\n",
    "plt.title(\"High and low temperature distribution map of Taipei City in recent years\")\n",
    "\n",
    "plt.xlabel(\"month\")\n",
    "plt.ylabel(\"temperture\")\n",
    "plt.plot(x, y,label = 'high temperature')\n",
    "plt.plot(x2, y2, label= 'low temperature')\n"
   ]
  }
 ],
 "metadata": {
  "kernelspec": {
   "display_name": "Python 3",
   "language": "python",
   "name": "python3"
  },
  "language_info": {
   "codemirror_mode": {
    "name": "ipython",
    "version": 3
   },
   "file_extension": ".py",
   "mimetype": "text/x-python",
   "name": "python",
   "nbconvert_exporter": "python",
   "pygments_lexer": "ipython3",
   "version": "3.7.3"
  }
 },
 "nbformat": 4,
 "nbformat_minor": 2
}
