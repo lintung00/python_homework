{
 "cells": [
  {
   "cell_type": "code",
   "execution_count": 1,
   "metadata": {},
   "outputs": [
    {
     "name": "stdout",
     "output_type": "stream",
     "text": [
      "請輸入被除數X:100\n",
      "請輸入除數Y:10\n",
      "沒有捕捉到例外!X除以Y的結果等於 10.0\n",
      "離開try...except區塊\n"
     ]
    }
   ],
   "source": [
    "try:\n",
    "    X=eval(input(\"請輸入被除數X:\"))\n",
    "    Y=eval(input(\"請輸入除數Y:\"))\n",
    "    Z=X/Y\n",
    "except ZeroDivisionError:\n",
    "    print(\"除數不得為0\")\n",
    "except Exception as e1:\n",
    "    print(e1.args)\n",
    "else:\n",
    "    print(\"沒有捕捉到例外!X除以Y的結果等於\",Z)\n",
    "finally:\n",
    "    print(\"離開try...except區塊\")"
   ]
  },
  {
   "cell_type": "code",
   "execution_count": null,
   "metadata": {},
   "outputs": [],
   "source": []
  }
 ],
 "metadata": {
  "kernelspec": {
   "display_name": "Python 3",
   "language": "python",
   "name": "python3"
  },
  "language_info": {
   "codemirror_mode": {
    "name": "ipython",
    "version": 3
   },
   "file_extension": ".py",
   "mimetype": "text/x-python",
   "name": "python",
   "nbconvert_exporter": "python",
   "pygments_lexer": "ipython3",
   "version": "3.7.3"
  }
 },
 "nbformat": 4,
 "nbformat_minor": 2
}
